{
 "cells": [
  {
   "cell_type": "code",
   "execution_count": 253,
   "metadata": {
    "collapsed": true,
    "pycharm": {
     "name": "#%%\n"
    }
   },
   "outputs": [],
   "source": [
    "import pandas as pd"
   ]
  },
  {
   "cell_type": "code",
   "execution_count": 254,
   "outputs": [],
   "source": [
    "df = pd.read_csv(r'C:\\Users\\Utilisateur\\PycharmProjects\\artefactGameRecommendation\\project\\input\\games_dataset_clean.csv')"
   ],
   "metadata": {
    "collapsed": false,
    "pycharm": {
     "name": "#%%\n"
    }
   }
  },
  {
   "cell_type": "code",
   "execution_count": 255,
   "outputs": [
    {
     "data": {
      "text/plain": "                                       name       platform  release_year  \\\n0      The Legend of Zelda: Ocarina of Time    Nintendo 64          1998   \n1                  Tony Hawk's Pro Skater 2    PlayStation          2000   \n2                       Grand Theft Auto IV  PlayStation 3          2008   \n3                               SoulCalibur      Dreamcast          1999   \n4                       Grand Theft Auto IV       Xbox 360          2008   \n5                        Super Mario Galaxy            Wii          2007   \n6                      Super Mario Galaxy 2            Wii          2010   \n7                     Red Dead Redemption 2       Xbox One          2018   \n8                        Grand Theft Auto V       Xbox One          2014   \n9                        Grand Theft Auto V  PlayStation 3          2013   \n10                       Grand Theft Auto V       Xbox 360          2013   \n11                 Tony Hawk's Pro Skater 2      Dreamcast          2000   \n12  The Legend of Zelda: Breath of the Wild         Switch          2017   \n13                 Tony Hawk's Pro Skater 3  PlayStation 2          2001   \n14                             Perfect Dark    Nintendo 64          2000   \n15                    Red Dead Redemption 2  PlayStation 4          2018   \n16                       Grand Theft Auto V  PlayStation 4          2014   \n17                            Metroid Prime       GameCube          2002   \n18                     Grand Theft Auto III  PlayStation 2          2001   \n19                      Super Mario Odyssey         Switch          2017   \n20                     Halo: Combat Evolved           Xbox          2001   \n21                                  NFL 2K1      Dreamcast          2000   \n22                              Half-Life 2             PC          2004   \n23                       Grand Theft Auto V             PC          2015   \n24  The Legend of Zelda: Breath of the Wild          Wii U          2017   \n25                                 BioShock       Xbox 360          2007   \n26                            GoldenEye 007    Nintendo 64          1997   \n27               Uncharted 2: Among Thieves  PlayStation 3          2009   \n28                          Resident Evil 4       GameCube          2005   \n29                           The Orange Box       Xbox 360          2007   \n30                           The Orange Box             PC          2007   \n31                      Batman: Arkham City  PlayStation 3          2011   \n32                                 Tekken 3    PlayStation          1998   \n33                            Mass Effect 2       Xbox 360          2010   \n34   The Legend of Zelda: Twilight Princess       GameCube          2006   \n35              The Elder Scrolls V: Skyrim       Xbox 360          2011   \n36                                Half-Life             PC          1998   \n37                          Resident Evil 4  PlayStation 2          2005   \n38      The Legend of Zelda: The Wind Waker       GameCube          2003   \n39                             Gran Turismo    PlayStation          1998   \n40                                 BioShock             PC          2007   \n41      Metal Gear Solid 2: Sons of Liberty  PlayStation 2          2001   \n42             Grand Theft Auto Double Pack           Xbox          2003   \n43         Baldur's Gate II: Shadows of Amn             PC          2000   \n44            Grand Theft Auto: San Andreas  PlayStation 2          2004   \n45              Grand Theft Auto: Vice City  PlayStation 2          2002   \n46                          LittleBigPlanet  PlayStation 3          2008   \n47  The Legend of Zelda Collector's Edition       GameCube          2003   \n48                      Red Dead Redemption  PlayStation 3          2010   \n49                   Gran Turismo 3: A-Spec  PlayStation 2          2001   \n\n                                              summary  \\\n0   As a young boy, Link is tricked by Ganondorf, ...   \n1   As most major publishers' development efforts ...   \n2   [Metacritic's 2008 PS3 Game of the Year; Also ...   \n3   This is a tale of souls and swords, transcendi...   \n4   [Metacritic's 2008 Xbox 360 Game of the Year; ...   \n5   [Metacritic's 2007 Wii Game of the Year] The u...   \n6   Super Mario Galaxy 2, the sequel to the galaxy...   \n7   Developed by the creators of Grand Theft Auto ...   \n8   Grand Theft Auto 5 melds storytelling and game...   \n9   Los Santos is a vast, sun-soaked metropolis fu...   \n10  Los Santos is a sprawling sun-soaked metropoli...   \n11  Hawk's back - with new technology, new pros an...   \n12  Forget everything you know about The Legend of...   \n13  Challenge up to four friends in online competi...   \n14  Step into the Dark... As Carrington Institute'...   \n15  Developed by the creators of Grand Theft Auto ...   \n16  The sprawling sun-soaked metropolis of Los San...   \n17  Samus returns in a new mission to unravel the ...   \n18  Players are put at the heart of their very own...   \n19  New Evolution of Mario Sandbox-Style Gameplay....   \n20  Enter the mysterious world of Halo, an alien p...   \n21  In the end, NFL 2K1 is a deeper, more refined ...   \n22  [Metacritic's 2004 PC Game of the Year] By tak...   \n23  Los Santos: a sprawling sun-soaked metropolis ...   \n24  Ignore everything you know about The Legend of...   \n25  [Metacritic's 2007 Xbox 360 Game of the Year] ...   \n26  You are Bond. James Bond. You are assigned cov...   \n27  Fortune hunter Nathan Drake returns in Unchart...   \n28  Resident Evil 4 marks a new chapter in the Res...   \n29  Games included in The Orange Box compilation: ...   \n30  Games included in The Orange Box compilation: ...   \n31  Developed by Rocksteady Studios, Batman: Arkha...   \n32  An ancient evil force has reawakened, attackin...   \n33  The Mass Effect trilogy is a science fiction a...   \n34  In the next chapter in the Legend of Zelda ser...   \n35  The next chapter in the Elder Scrolls saga arr...   \n36  Half-Life combines great storytelling in the t...   \n37  In Resident Evil 4 players are reacquainted wi...   \n38  In this ninth entry in the Legend of Zelda ser...   \n39  Welcome to the most advanced racing game ever ...   \n40  Going beyond \"run and gun corridors,\" \"monster...   \n41  Since the incident on Shadow Moses Island, Met...   \n42  From the dark and seedy streets of Liberty Cit...   \n43  An epic continuation of the story that began i...   \n44  [Metacritic's 2004 PS2 Game of the Year] Five ...   \n45  [Metacritic's 2002 PS2 Game of the Year ] Welc...   \n46  In LittleBigPlanet Players meet on a blue and ...   \n47  Receive Four Complete Classic Zelda games all ...   \n48  Developed by Rockstar San Diego, as a follow u...   \n49  With the addition of two new courses (a downto...   \n\n                     developer          genre(s)     multiplayer rating  \\\n0                     Nintendo  Action Adventure  No Multiplayer      E   \n1      Neversoft Entertainment            Sports     Multiplayer      T   \n2               Rockstar North  Action Adventure  No Multiplayer      M   \n3                        Namco            Action     Multiplayer      T   \n4               Rockstar North  Action Adventure  No Multiplayer      M   \n5                     Nintendo            Action  No Multiplayer      E   \n6           Nintendo EAD Tokyo            Action  No Multiplayer      E   \n7               Rockstar Games  Action Adventure     Multiplayer      M   \n8               Rockstar North  Action Adventure     Multiplayer      M   \n9               Rockstar North            Modern     Multiplayer      M   \n10              Rockstar North            Modern     Multiplayer      M   \n11                    Treyarch            Sports  No Multiplayer      T   \n12                    Nintendo  Action Adventure  No Multiplayer   E10+   \n13     Neversoft Entertainment            Sports     Multiplayer      T   \n14                   Rare Ltd.            Action  No Multiplayer      M   \n15              Rockstar Games  Action Adventure     Multiplayer      M   \n16              Rockstar North  Action Adventure     Multiplayer      M   \n17               Retro Studios            Action  No Multiplayer      T   \n18                  DMA Design  Action Adventure  No Multiplayer      M   \n19                    Nintendo            Action  No Multiplayer   E10+   \n20             Bungie Software            Action     Multiplayer      M   \n21             Visual Concepts            Sports  No Multiplayer      E   \n22              Valve Software            Action  No Multiplayer      M   \n23              Rockstar North            Modern     Multiplayer      M   \n24                    Nintendo           Fantasy  No Multiplayer   E10+   \n25  Irrational Games, 2K Marin            Action  No Multiplayer      M   \n26                   Rare Ltd.            Action     Multiplayer      T   \n27                 Naughty Dog  Action Adventure  No Multiplayer      T   \n28                      Capcom  Action Adventure  No Multiplayer      M   \n29              Valve Software            Action     Multiplayer      M   \n30              Valve Software            Action     Multiplayer      M   \n31          Rocksteady Studios  Action Adventure  No Multiplayer      T   \n32                       Namco            Action     Multiplayer      T   \n33                     BioWare      Role-Playing  No Multiplayer      M   \n34                    Nintendo  Action Adventure  No Multiplayer      T   \n35       Bethesda Game Studios      Role-Playing  No Multiplayer      M   \n36              Valve Software            Action     Multiplayer      M   \n37                      Capcom  Action Adventure  No Multiplayer      M   \n38                    Nintendo  Action Adventure  No Multiplayer      E   \n39           Polyphony Digital           Driving     Multiplayer      E   \n40  Irrational Games, 2K Marin            Action  No Multiplayer      M   \n41                        KCEJ  Action Adventure  No Multiplayer      M   \n42              Rockstar North     Miscellaneous  No Multiplayer      M   \n43                     BioWare      Role-Playing     Multiplayer      T   \n44              Rockstar North  Action Adventure     Multiplayer      M   \n45              Rockstar North  Action Adventure  No Multiplayer      M   \n46     SCE/WWS, Media Molecule            Action     Multiplayer      E   \n47                    Nintendo  Action Adventure  No Multiplayer      E   \n48          Rockstar San Diego            Action     Multiplayer      M   \n49           Polyphony Digital           Driving     Multiplayer      E   \n\n    score    opinion  \n0    95.0  92.164545  \n1    86.0  81.333333  \n2    87.5  65.957447  \n3    91.0  95.744681  \n4    88.5  71.556886  \n5    94.0  90.331126  \n6    94.0  92.270531  \n7    88.5  74.067797  \n8    88.0  80.606061  \n9    90.0  79.204108  \n10   90.0  81.597222  \n11   79.5  88.888889  \n12   92.0  88.089888  \n13   86.0  84.000000  \n14   92.5  93.893130  \n15   91.0  72.304688  \n16   90.5  75.163399  \n17   91.5  91.847826  \n18   90.5  86.301370  \n19   93.0  91.912908  \n20   92.0  84.869565  \n21   79.5  97.058824  \n22   94.0  87.996174  \n23   87.0  56.912442  \n24   89.5  83.677686  \n25   93.0  84.248555  \n26   93.0  90.000000  \n27   92.0  90.716912  \n28   94.0  96.717724  \n29   93.0  91.166078  \n30   94.5  94.964029  \n31   92.0  94.105691  \n32   93.5  95.522388  \n33   92.5  87.124464  \n34   92.5  80.597015  \n35   91.0  88.408037  \n36   93.5  91.972077  \n37   93.0  85.981308  \n38   93.0  84.862385  \n39   91.0  87.179487  \n40   91.0  72.738386  \n41   92.0  83.428571  \n42   88.5  86.842105  \n43   93.0  94.509804  \n44   93.0  89.845095  \n45   91.5  91.578947  \n46   81.5  79.890311  \n47   92.0  88.888889  \n48   92.0  86.773547  \n49   89.5  87.845304  ",
      "text/html": "<div>\n<style scoped>\n    .dataframe tbody tr th:only-of-type {\n        vertical-align: middle;\n    }\n\n    .dataframe tbody tr th {\n        vertical-align: top;\n    }\n\n    .dataframe thead th {\n        text-align: right;\n    }\n</style>\n<table border=\"1\" class=\"dataframe\">\n  <thead>\n    <tr style=\"text-align: right;\">\n      <th></th>\n      <th>name</th>\n      <th>platform</th>\n      <th>release_year</th>\n      <th>summary</th>\n      <th>developer</th>\n      <th>genre(s)</th>\n      <th>multiplayer</th>\n      <th>rating</th>\n      <th>score</th>\n      <th>opinion</th>\n    </tr>\n  </thead>\n  <tbody>\n    <tr>\n      <th>0</th>\n      <td>The Legend of Zelda: Ocarina of Time</td>\n      <td>Nintendo 64</td>\n      <td>1998</td>\n      <td>As a young boy, Link is tricked by Ganondorf, ...</td>\n      <td>Nintendo</td>\n      <td>Action Adventure</td>\n      <td>No Multiplayer</td>\n      <td>E</td>\n      <td>95.0</td>\n      <td>92.164545</td>\n    </tr>\n    <tr>\n      <th>1</th>\n      <td>Tony Hawk's Pro Skater 2</td>\n      <td>PlayStation</td>\n      <td>2000</td>\n      <td>As most major publishers' development efforts ...</td>\n      <td>Neversoft Entertainment</td>\n      <td>Sports</td>\n      <td>Multiplayer</td>\n      <td>T</td>\n      <td>86.0</td>\n      <td>81.333333</td>\n    </tr>\n    <tr>\n      <th>2</th>\n      <td>Grand Theft Auto IV</td>\n      <td>PlayStation 3</td>\n      <td>2008</td>\n      <td>[Metacritic's 2008 PS3 Game of the Year; Also ...</td>\n      <td>Rockstar North</td>\n      <td>Action Adventure</td>\n      <td>No Multiplayer</td>\n      <td>M</td>\n      <td>87.5</td>\n      <td>65.957447</td>\n    </tr>\n    <tr>\n      <th>3</th>\n      <td>SoulCalibur</td>\n      <td>Dreamcast</td>\n      <td>1999</td>\n      <td>This is a tale of souls and swords, transcendi...</td>\n      <td>Namco</td>\n      <td>Action</td>\n      <td>Multiplayer</td>\n      <td>T</td>\n      <td>91.0</td>\n      <td>95.744681</td>\n    </tr>\n    <tr>\n      <th>4</th>\n      <td>Grand Theft Auto IV</td>\n      <td>Xbox 360</td>\n      <td>2008</td>\n      <td>[Metacritic's 2008 Xbox 360 Game of the Year; ...</td>\n      <td>Rockstar North</td>\n      <td>Action Adventure</td>\n      <td>No Multiplayer</td>\n      <td>M</td>\n      <td>88.5</td>\n      <td>71.556886</td>\n    </tr>\n    <tr>\n      <th>5</th>\n      <td>Super Mario Galaxy</td>\n      <td>Wii</td>\n      <td>2007</td>\n      <td>[Metacritic's 2007 Wii Game of the Year] The u...</td>\n      <td>Nintendo</td>\n      <td>Action</td>\n      <td>No Multiplayer</td>\n      <td>E</td>\n      <td>94.0</td>\n      <td>90.331126</td>\n    </tr>\n    <tr>\n      <th>6</th>\n      <td>Super Mario Galaxy 2</td>\n      <td>Wii</td>\n      <td>2010</td>\n      <td>Super Mario Galaxy 2, the sequel to the galaxy...</td>\n      <td>Nintendo EAD Tokyo</td>\n      <td>Action</td>\n      <td>No Multiplayer</td>\n      <td>E</td>\n      <td>94.0</td>\n      <td>92.270531</td>\n    </tr>\n    <tr>\n      <th>7</th>\n      <td>Red Dead Redemption 2</td>\n      <td>Xbox One</td>\n      <td>2018</td>\n      <td>Developed by the creators of Grand Theft Auto ...</td>\n      <td>Rockstar Games</td>\n      <td>Action Adventure</td>\n      <td>Multiplayer</td>\n      <td>M</td>\n      <td>88.5</td>\n      <td>74.067797</td>\n    </tr>\n    <tr>\n      <th>8</th>\n      <td>Grand Theft Auto V</td>\n      <td>Xbox One</td>\n      <td>2014</td>\n      <td>Grand Theft Auto 5 melds storytelling and game...</td>\n      <td>Rockstar North</td>\n      <td>Action Adventure</td>\n      <td>Multiplayer</td>\n      <td>M</td>\n      <td>88.0</td>\n      <td>80.606061</td>\n    </tr>\n    <tr>\n      <th>9</th>\n      <td>Grand Theft Auto V</td>\n      <td>PlayStation 3</td>\n      <td>2013</td>\n      <td>Los Santos is a vast, sun-soaked metropolis fu...</td>\n      <td>Rockstar North</td>\n      <td>Modern</td>\n      <td>Multiplayer</td>\n      <td>M</td>\n      <td>90.0</td>\n      <td>79.204108</td>\n    </tr>\n    <tr>\n      <th>10</th>\n      <td>Grand Theft Auto V</td>\n      <td>Xbox 360</td>\n      <td>2013</td>\n      <td>Los Santos is a sprawling sun-soaked metropoli...</td>\n      <td>Rockstar North</td>\n      <td>Modern</td>\n      <td>Multiplayer</td>\n      <td>M</td>\n      <td>90.0</td>\n      <td>81.597222</td>\n    </tr>\n    <tr>\n      <th>11</th>\n      <td>Tony Hawk's Pro Skater 2</td>\n      <td>Dreamcast</td>\n      <td>2000</td>\n      <td>Hawk's back - with new technology, new pros an...</td>\n      <td>Treyarch</td>\n      <td>Sports</td>\n      <td>No Multiplayer</td>\n      <td>T</td>\n      <td>79.5</td>\n      <td>88.888889</td>\n    </tr>\n    <tr>\n      <th>12</th>\n      <td>The Legend of Zelda: Breath of the Wild</td>\n      <td>Switch</td>\n      <td>2017</td>\n      <td>Forget everything you know about The Legend of...</td>\n      <td>Nintendo</td>\n      <td>Action Adventure</td>\n      <td>No Multiplayer</td>\n      <td>E10+</td>\n      <td>92.0</td>\n      <td>88.089888</td>\n    </tr>\n    <tr>\n      <th>13</th>\n      <td>Tony Hawk's Pro Skater 3</td>\n      <td>PlayStation 2</td>\n      <td>2001</td>\n      <td>Challenge up to four friends in online competi...</td>\n      <td>Neversoft Entertainment</td>\n      <td>Sports</td>\n      <td>Multiplayer</td>\n      <td>T</td>\n      <td>86.0</td>\n      <td>84.000000</td>\n    </tr>\n    <tr>\n      <th>14</th>\n      <td>Perfect Dark</td>\n      <td>Nintendo 64</td>\n      <td>2000</td>\n      <td>Step into the Dark... As Carrington Institute'...</td>\n      <td>Rare Ltd.</td>\n      <td>Action</td>\n      <td>No Multiplayer</td>\n      <td>M</td>\n      <td>92.5</td>\n      <td>93.893130</td>\n    </tr>\n    <tr>\n      <th>15</th>\n      <td>Red Dead Redemption 2</td>\n      <td>PlayStation 4</td>\n      <td>2018</td>\n      <td>Developed by the creators of Grand Theft Auto ...</td>\n      <td>Rockstar Games</td>\n      <td>Action Adventure</td>\n      <td>Multiplayer</td>\n      <td>M</td>\n      <td>91.0</td>\n      <td>72.304688</td>\n    </tr>\n    <tr>\n      <th>16</th>\n      <td>Grand Theft Auto V</td>\n      <td>PlayStation 4</td>\n      <td>2014</td>\n      <td>The sprawling sun-soaked metropolis of Los San...</td>\n      <td>Rockstar North</td>\n      <td>Action Adventure</td>\n      <td>Multiplayer</td>\n      <td>M</td>\n      <td>90.5</td>\n      <td>75.163399</td>\n    </tr>\n    <tr>\n      <th>17</th>\n      <td>Metroid Prime</td>\n      <td>GameCube</td>\n      <td>2002</td>\n      <td>Samus returns in a new mission to unravel the ...</td>\n      <td>Retro Studios</td>\n      <td>Action</td>\n      <td>No Multiplayer</td>\n      <td>T</td>\n      <td>91.5</td>\n      <td>91.847826</td>\n    </tr>\n    <tr>\n      <th>18</th>\n      <td>Grand Theft Auto III</td>\n      <td>PlayStation 2</td>\n      <td>2001</td>\n      <td>Players are put at the heart of their very own...</td>\n      <td>DMA Design</td>\n      <td>Action Adventure</td>\n      <td>No Multiplayer</td>\n      <td>M</td>\n      <td>90.5</td>\n      <td>86.301370</td>\n    </tr>\n    <tr>\n      <th>19</th>\n      <td>Super Mario Odyssey</td>\n      <td>Switch</td>\n      <td>2017</td>\n      <td>New Evolution of Mario Sandbox-Style Gameplay....</td>\n      <td>Nintendo</td>\n      <td>Action</td>\n      <td>No Multiplayer</td>\n      <td>E10+</td>\n      <td>93.0</td>\n      <td>91.912908</td>\n    </tr>\n    <tr>\n      <th>20</th>\n      <td>Halo: Combat Evolved</td>\n      <td>Xbox</td>\n      <td>2001</td>\n      <td>Enter the mysterious world of Halo, an alien p...</td>\n      <td>Bungie Software</td>\n      <td>Action</td>\n      <td>Multiplayer</td>\n      <td>M</td>\n      <td>92.0</td>\n      <td>84.869565</td>\n    </tr>\n    <tr>\n      <th>21</th>\n      <td>NFL 2K1</td>\n      <td>Dreamcast</td>\n      <td>2000</td>\n      <td>In the end, NFL 2K1 is a deeper, more refined ...</td>\n      <td>Visual Concepts</td>\n      <td>Sports</td>\n      <td>No Multiplayer</td>\n      <td>E</td>\n      <td>79.5</td>\n      <td>97.058824</td>\n    </tr>\n    <tr>\n      <th>22</th>\n      <td>Half-Life 2</td>\n      <td>PC</td>\n      <td>2004</td>\n      <td>[Metacritic's 2004 PC Game of the Year] By tak...</td>\n      <td>Valve Software</td>\n      <td>Action</td>\n      <td>No Multiplayer</td>\n      <td>M</td>\n      <td>94.0</td>\n      <td>87.996174</td>\n    </tr>\n    <tr>\n      <th>23</th>\n      <td>Grand Theft Auto V</td>\n      <td>PC</td>\n      <td>2015</td>\n      <td>Los Santos: a sprawling sun-soaked metropolis ...</td>\n      <td>Rockstar North</td>\n      <td>Modern</td>\n      <td>Multiplayer</td>\n      <td>M</td>\n      <td>87.0</td>\n      <td>56.912442</td>\n    </tr>\n    <tr>\n      <th>24</th>\n      <td>The Legend of Zelda: Breath of the Wild</td>\n      <td>Wii U</td>\n      <td>2017</td>\n      <td>Ignore everything you know about The Legend of...</td>\n      <td>Nintendo</td>\n      <td>Fantasy</td>\n      <td>No Multiplayer</td>\n      <td>E10+</td>\n      <td>89.5</td>\n      <td>83.677686</td>\n    </tr>\n    <tr>\n      <th>25</th>\n      <td>BioShock</td>\n      <td>Xbox 360</td>\n      <td>2007</td>\n      <td>[Metacritic's 2007 Xbox 360 Game of the Year] ...</td>\n      <td>Irrational Games, 2K Marin</td>\n      <td>Action</td>\n      <td>No Multiplayer</td>\n      <td>M</td>\n      <td>93.0</td>\n      <td>84.248555</td>\n    </tr>\n    <tr>\n      <th>26</th>\n      <td>GoldenEye 007</td>\n      <td>Nintendo 64</td>\n      <td>1997</td>\n      <td>You are Bond. James Bond. You are assigned cov...</td>\n      <td>Rare Ltd.</td>\n      <td>Action</td>\n      <td>Multiplayer</td>\n      <td>T</td>\n      <td>93.0</td>\n      <td>90.000000</td>\n    </tr>\n    <tr>\n      <th>27</th>\n      <td>Uncharted 2: Among Thieves</td>\n      <td>PlayStation 3</td>\n      <td>2009</td>\n      <td>Fortune hunter Nathan Drake returns in Unchart...</td>\n      <td>Naughty Dog</td>\n      <td>Action Adventure</td>\n      <td>No Multiplayer</td>\n      <td>T</td>\n      <td>92.0</td>\n      <td>90.716912</td>\n    </tr>\n    <tr>\n      <th>28</th>\n      <td>Resident Evil 4</td>\n      <td>GameCube</td>\n      <td>2005</td>\n      <td>Resident Evil 4 marks a new chapter in the Res...</td>\n      <td>Capcom</td>\n      <td>Action Adventure</td>\n      <td>No Multiplayer</td>\n      <td>M</td>\n      <td>94.0</td>\n      <td>96.717724</td>\n    </tr>\n    <tr>\n      <th>29</th>\n      <td>The Orange Box</td>\n      <td>Xbox 360</td>\n      <td>2007</td>\n      <td>Games included in The Orange Box compilation: ...</td>\n      <td>Valve Software</td>\n      <td>Action</td>\n      <td>Multiplayer</td>\n      <td>M</td>\n      <td>93.0</td>\n      <td>91.166078</td>\n    </tr>\n    <tr>\n      <th>30</th>\n      <td>The Orange Box</td>\n      <td>PC</td>\n      <td>2007</td>\n      <td>Games included in The Orange Box compilation: ...</td>\n      <td>Valve Software</td>\n      <td>Action</td>\n      <td>Multiplayer</td>\n      <td>M</td>\n      <td>94.5</td>\n      <td>94.964029</td>\n    </tr>\n    <tr>\n      <th>31</th>\n      <td>Batman: Arkham City</td>\n      <td>PlayStation 3</td>\n      <td>2011</td>\n      <td>Developed by Rocksteady Studios, Batman: Arkha...</td>\n      <td>Rocksteady Studios</td>\n      <td>Action Adventure</td>\n      <td>No Multiplayer</td>\n      <td>T</td>\n      <td>92.0</td>\n      <td>94.105691</td>\n    </tr>\n    <tr>\n      <th>32</th>\n      <td>Tekken 3</td>\n      <td>PlayStation</td>\n      <td>1998</td>\n      <td>An ancient evil force has reawakened, attackin...</td>\n      <td>Namco</td>\n      <td>Action</td>\n      <td>Multiplayer</td>\n      <td>T</td>\n      <td>93.5</td>\n      <td>95.522388</td>\n    </tr>\n    <tr>\n      <th>33</th>\n      <td>Mass Effect 2</td>\n      <td>Xbox 360</td>\n      <td>2010</td>\n      <td>The Mass Effect trilogy is a science fiction a...</td>\n      <td>BioWare</td>\n      <td>Role-Playing</td>\n      <td>No Multiplayer</td>\n      <td>M</td>\n      <td>92.5</td>\n      <td>87.124464</td>\n    </tr>\n    <tr>\n      <th>34</th>\n      <td>The Legend of Zelda: Twilight Princess</td>\n      <td>GameCube</td>\n      <td>2006</td>\n      <td>In the next chapter in the Legend of Zelda ser...</td>\n      <td>Nintendo</td>\n      <td>Action Adventure</td>\n      <td>No Multiplayer</td>\n      <td>T</td>\n      <td>92.5</td>\n      <td>80.597015</td>\n    </tr>\n    <tr>\n      <th>35</th>\n      <td>The Elder Scrolls V: Skyrim</td>\n      <td>Xbox 360</td>\n      <td>2011</td>\n      <td>The next chapter in the Elder Scrolls saga arr...</td>\n      <td>Bethesda Game Studios</td>\n      <td>Role-Playing</td>\n      <td>No Multiplayer</td>\n      <td>M</td>\n      <td>91.0</td>\n      <td>88.408037</td>\n    </tr>\n    <tr>\n      <th>36</th>\n      <td>Half-Life</td>\n      <td>PC</td>\n      <td>1998</td>\n      <td>Half-Life combines great storytelling in the t...</td>\n      <td>Valve Software</td>\n      <td>Action</td>\n      <td>Multiplayer</td>\n      <td>M</td>\n      <td>93.5</td>\n      <td>91.972077</td>\n    </tr>\n    <tr>\n      <th>37</th>\n      <td>Resident Evil 4</td>\n      <td>PlayStation 2</td>\n      <td>2005</td>\n      <td>In Resident Evil 4 players are reacquainted wi...</td>\n      <td>Capcom</td>\n      <td>Action Adventure</td>\n      <td>No Multiplayer</td>\n      <td>M</td>\n      <td>93.0</td>\n      <td>85.981308</td>\n    </tr>\n    <tr>\n      <th>38</th>\n      <td>The Legend of Zelda: The Wind Waker</td>\n      <td>GameCube</td>\n      <td>2003</td>\n      <td>In this ninth entry in the Legend of Zelda ser...</td>\n      <td>Nintendo</td>\n      <td>Action Adventure</td>\n      <td>No Multiplayer</td>\n      <td>E</td>\n      <td>93.0</td>\n      <td>84.862385</td>\n    </tr>\n    <tr>\n      <th>39</th>\n      <td>Gran Turismo</td>\n      <td>PlayStation</td>\n      <td>1998</td>\n      <td>Welcome to the most advanced racing game ever ...</td>\n      <td>Polyphony Digital</td>\n      <td>Driving</td>\n      <td>Multiplayer</td>\n      <td>E</td>\n      <td>91.0</td>\n      <td>87.179487</td>\n    </tr>\n    <tr>\n      <th>40</th>\n      <td>BioShock</td>\n      <td>PC</td>\n      <td>2007</td>\n      <td>Going beyond \"run and gun corridors,\" \"monster...</td>\n      <td>Irrational Games, 2K Marin</td>\n      <td>Action</td>\n      <td>No Multiplayer</td>\n      <td>M</td>\n      <td>91.0</td>\n      <td>72.738386</td>\n    </tr>\n    <tr>\n      <th>41</th>\n      <td>Metal Gear Solid 2: Sons of Liberty</td>\n      <td>PlayStation 2</td>\n      <td>2001</td>\n      <td>Since the incident on Shadow Moses Island, Met...</td>\n      <td>KCEJ</td>\n      <td>Action Adventure</td>\n      <td>No Multiplayer</td>\n      <td>M</td>\n      <td>92.0</td>\n      <td>83.428571</td>\n    </tr>\n    <tr>\n      <th>42</th>\n      <td>Grand Theft Auto Double Pack</td>\n      <td>Xbox</td>\n      <td>2003</td>\n      <td>From the dark and seedy streets of Liberty Cit...</td>\n      <td>Rockstar North</td>\n      <td>Miscellaneous</td>\n      <td>No Multiplayer</td>\n      <td>M</td>\n      <td>88.5</td>\n      <td>86.842105</td>\n    </tr>\n    <tr>\n      <th>43</th>\n      <td>Baldur's Gate II: Shadows of Amn</td>\n      <td>PC</td>\n      <td>2000</td>\n      <td>An epic continuation of the story that began i...</td>\n      <td>BioWare</td>\n      <td>Role-Playing</td>\n      <td>Multiplayer</td>\n      <td>T</td>\n      <td>93.0</td>\n      <td>94.509804</td>\n    </tr>\n    <tr>\n      <th>44</th>\n      <td>Grand Theft Auto: San Andreas</td>\n      <td>PlayStation 2</td>\n      <td>2004</td>\n      <td>[Metacritic's 2004 PS2 Game of the Year] Five ...</td>\n      <td>Rockstar North</td>\n      <td>Action Adventure</td>\n      <td>Multiplayer</td>\n      <td>M</td>\n      <td>93.0</td>\n      <td>89.845095</td>\n    </tr>\n    <tr>\n      <th>45</th>\n      <td>Grand Theft Auto: Vice City</td>\n      <td>PlayStation 2</td>\n      <td>2002</td>\n      <td>[Metacritic's 2002 PS2 Game of the Year ] Welc...</td>\n      <td>Rockstar North</td>\n      <td>Action Adventure</td>\n      <td>No Multiplayer</td>\n      <td>M</td>\n      <td>91.5</td>\n      <td>91.578947</td>\n    </tr>\n    <tr>\n      <th>46</th>\n      <td>LittleBigPlanet</td>\n      <td>PlayStation 3</td>\n      <td>2008</td>\n      <td>In LittleBigPlanet Players meet on a blue and ...</td>\n      <td>SCE/WWS, Media Molecule</td>\n      <td>Action</td>\n      <td>Multiplayer</td>\n      <td>E</td>\n      <td>81.5</td>\n      <td>79.890311</td>\n    </tr>\n    <tr>\n      <th>47</th>\n      <td>The Legend of Zelda Collector's Edition</td>\n      <td>GameCube</td>\n      <td>2003</td>\n      <td>Receive Four Complete Classic Zelda games all ...</td>\n      <td>Nintendo</td>\n      <td>Action Adventure</td>\n      <td>No Multiplayer</td>\n      <td>E</td>\n      <td>92.0</td>\n      <td>88.888889</td>\n    </tr>\n    <tr>\n      <th>48</th>\n      <td>Red Dead Redemption</td>\n      <td>PlayStation 3</td>\n      <td>2010</td>\n      <td>Developed by Rockstar San Diego, as a follow u...</td>\n      <td>Rockstar San Diego</td>\n      <td>Action</td>\n      <td>Multiplayer</td>\n      <td>M</td>\n      <td>92.0</td>\n      <td>86.773547</td>\n    </tr>\n    <tr>\n      <th>49</th>\n      <td>Gran Turismo 3: A-Spec</td>\n      <td>PlayStation 2</td>\n      <td>2001</td>\n      <td>With the addition of two new courses (a downto...</td>\n      <td>Polyphony Digital</td>\n      <td>Driving</td>\n      <td>Multiplayer</td>\n      <td>E</td>\n      <td>89.5</td>\n      <td>87.845304</td>\n    </tr>\n  </tbody>\n</table>\n</div>"
     },
     "execution_count": 255,
     "metadata": {},
     "output_type": "execute_result"
    }
   ],
   "source": [
    "df.head(50)"
   ],
   "metadata": {
    "collapsed": false,
    "pycharm": {
     "name": "#%%\n"
    }
   }
  },
  {
   "cell_type": "code",
   "execution_count": 256,
   "outputs": [],
   "source": [
    "from rake_nltk import Rake\n",
    "from sklearn.metrics.pairwise import cosine_similarity\n",
    "from sklearn.feature_extraction.text import CountVectorizer"
   ],
   "metadata": {
    "collapsed": false,
    "pycharm": {
     "name": "#%%\n"
    }
   }
  },
  {
   "cell_type": "code",
   "execution_count": 257,
   "outputs": [
    {
     "data": {
      "text/plain": "                                   name       platform  release_year  \\\n0  The Legend of Zelda: Ocarina of Time    Nintendo 64          1998   \n1              Tony Hawk's Pro Skater 2    PlayStation          2000   \n2                   Grand Theft Auto IV  PlayStation 3          2008   \n3                           SoulCalibur      Dreamcast          1999   \n4                   Grand Theft Auto IV       Xbox 360          2008   \n\n                                             summary                developer  \\\n0  As a young boy, Link is tricked by Ganondorf, ...                 Nintendo   \n1  As most major publishers' development efforts ...  Neversoft Entertainment   \n2  [Metacritic's 2008 PS3 Game of the Year; Also ...           Rockstar North   \n3  This is a tale of souls and swords, transcendi...                    Namco   \n4  [Metacritic's 2008 Xbox 360 Game of the Year; ...           Rockstar North   \n\n           genre(s)     multiplayer rating  score    opinion  \n0  Action Adventure  No Multiplayer      E   95.0  92.164545  \n1            Sports     Multiplayer      T   86.0  81.333333  \n2  Action Adventure  No Multiplayer      M   87.5  65.957447  \n3            Action     Multiplayer      T   91.0  95.744681  \n4  Action Adventure  No Multiplayer      M   88.5  71.556886  ",
      "text/html": "<div>\n<style scoped>\n    .dataframe tbody tr th:only-of-type {\n        vertical-align: middle;\n    }\n\n    .dataframe tbody tr th {\n        vertical-align: top;\n    }\n\n    .dataframe thead th {\n        text-align: right;\n    }\n</style>\n<table border=\"1\" class=\"dataframe\">\n  <thead>\n    <tr style=\"text-align: right;\">\n      <th></th>\n      <th>name</th>\n      <th>platform</th>\n      <th>release_year</th>\n      <th>summary</th>\n      <th>developer</th>\n      <th>genre(s)</th>\n      <th>multiplayer</th>\n      <th>rating</th>\n      <th>score</th>\n      <th>opinion</th>\n    </tr>\n  </thead>\n  <tbody>\n    <tr>\n      <th>0</th>\n      <td>The Legend of Zelda: Ocarina of Time</td>\n      <td>Nintendo 64</td>\n      <td>1998</td>\n      <td>As a young boy, Link is tricked by Ganondorf, ...</td>\n      <td>Nintendo</td>\n      <td>Action Adventure</td>\n      <td>No Multiplayer</td>\n      <td>E</td>\n      <td>95.0</td>\n      <td>92.164545</td>\n    </tr>\n    <tr>\n      <th>1</th>\n      <td>Tony Hawk's Pro Skater 2</td>\n      <td>PlayStation</td>\n      <td>2000</td>\n      <td>As most major publishers' development efforts ...</td>\n      <td>Neversoft Entertainment</td>\n      <td>Sports</td>\n      <td>Multiplayer</td>\n      <td>T</td>\n      <td>86.0</td>\n      <td>81.333333</td>\n    </tr>\n    <tr>\n      <th>2</th>\n      <td>Grand Theft Auto IV</td>\n      <td>PlayStation 3</td>\n      <td>2008</td>\n      <td>[Metacritic's 2008 PS3 Game of the Year; Also ...</td>\n      <td>Rockstar North</td>\n      <td>Action Adventure</td>\n      <td>No Multiplayer</td>\n      <td>M</td>\n      <td>87.5</td>\n      <td>65.957447</td>\n    </tr>\n    <tr>\n      <th>3</th>\n      <td>SoulCalibur</td>\n      <td>Dreamcast</td>\n      <td>1999</td>\n      <td>This is a tale of souls and swords, transcendi...</td>\n      <td>Namco</td>\n      <td>Action</td>\n      <td>Multiplayer</td>\n      <td>T</td>\n      <td>91.0</td>\n      <td>95.744681</td>\n    </tr>\n    <tr>\n      <th>4</th>\n      <td>Grand Theft Auto IV</td>\n      <td>Xbox 360</td>\n      <td>2008</td>\n      <td>[Metacritic's 2008 Xbox 360 Game of the Year; ...</td>\n      <td>Rockstar North</td>\n      <td>Action Adventure</td>\n      <td>No Multiplayer</td>\n      <td>M</td>\n      <td>88.5</td>\n      <td>71.556886</td>\n    </tr>\n  </tbody>\n</table>\n</div>"
     },
     "execution_count": 257,
     "metadata": {},
     "output_type": "execute_result"
    }
   ],
   "source": [
    "df_nlp = df.copy()\n",
    "\n",
    "df_nlp.head()"
   ],
   "metadata": {
    "collapsed": false,
    "pycharm": {
     "name": "#%%\n"
    }
   }
  },
  {
   "cell_type": "code",
   "execution_count": 258,
   "outputs": [],
   "source": [
    "df_nlp['Key_words'] = ''\n",
    "df_nlp['summary'].fillna('', inplace=True)\n",
    "\n",
    "r = Rake()\n",
    "\n",
    "for index, row in df_nlp.iterrows():\n",
    "    r.extract_keywords_from_text(row['summary'])\n",
    "    key_words_dict_scores = r.get_word_degrees()\n",
    "    df_nlp.at[index, 'Key_words'] = list(key_words_dict_scores.keys())"
   ],
   "metadata": {
    "collapsed": false,
    "pycharm": {
     "name": "#%%\n"
    }
   }
  },
  {
   "cell_type": "code",
   "execution_count": 259,
   "outputs": [
    {
     "data": {
      "text/plain": "                                   name       platform  release_year  \\\n0  The Legend of Zelda: Ocarina of Time    Nintendo 64          1998   \n1              Tony Hawk's Pro Skater 2    PlayStation          2000   \n2                   Grand Theft Auto IV  PlayStation 3          2008   \n3                           SoulCalibur      Dreamcast          1999   \n4                   Grand Theft Auto IV       Xbox 360          2008   \n\n                                             summary                developer  \\\n0  As a young boy, Link is tricked by Ganondorf, ...                 Nintendo   \n1  As most major publishers' development efforts ...  Neversoft Entertainment   \n2  [Metacritic's 2008 PS3 Game of the Year; Also ...           Rockstar North   \n3  This is a tale of souls and swords, transcendi...                    Namco   \n4  [Metacritic's 2008 Xbox 360 Game of the Year; ...           Rockstar North   \n\n           genre(s)     multiplayer rating  score    opinion  \\\n0  Action Adventure  No Multiplayer      E   95.0  92.164545   \n1            Sports     Multiplayer      T   86.0  81.333333   \n2  Action Adventure  No Multiplayer      M   87.5  65.957447   \n3            Action     Multiplayer      T   91.0  95.744681   \n4  Action Adventure  No Multiplayer      M   88.5  71.556886   \n\n                                           Key_words  \n0  [young, boy, link, tricked, ganondorf, king, g...  \n1  [major, publishers, development, efforts, shif...  \n2  [metacritic, 2008, ps3, game, year, also, know...  \n3  [tale, souls, swords, transcending, world, his...  \n4  [metacritic, 2008, xbox, 360, game, year, also...  ",
      "text/html": "<div>\n<style scoped>\n    .dataframe tbody tr th:only-of-type {\n        vertical-align: middle;\n    }\n\n    .dataframe tbody tr th {\n        vertical-align: top;\n    }\n\n    .dataframe thead th {\n        text-align: right;\n    }\n</style>\n<table border=\"1\" class=\"dataframe\">\n  <thead>\n    <tr style=\"text-align: right;\">\n      <th></th>\n      <th>name</th>\n      <th>platform</th>\n      <th>release_year</th>\n      <th>summary</th>\n      <th>developer</th>\n      <th>genre(s)</th>\n      <th>multiplayer</th>\n      <th>rating</th>\n      <th>score</th>\n      <th>opinion</th>\n      <th>Key_words</th>\n    </tr>\n  </thead>\n  <tbody>\n    <tr>\n      <th>0</th>\n      <td>The Legend of Zelda: Ocarina of Time</td>\n      <td>Nintendo 64</td>\n      <td>1998</td>\n      <td>As a young boy, Link is tricked by Ganondorf, ...</td>\n      <td>Nintendo</td>\n      <td>Action Adventure</td>\n      <td>No Multiplayer</td>\n      <td>E</td>\n      <td>95.0</td>\n      <td>92.164545</td>\n      <td>[young, boy, link, tricked, ganondorf, king, g...</td>\n    </tr>\n    <tr>\n      <th>1</th>\n      <td>Tony Hawk's Pro Skater 2</td>\n      <td>PlayStation</td>\n      <td>2000</td>\n      <td>As most major publishers' development efforts ...</td>\n      <td>Neversoft Entertainment</td>\n      <td>Sports</td>\n      <td>Multiplayer</td>\n      <td>T</td>\n      <td>86.0</td>\n      <td>81.333333</td>\n      <td>[major, publishers, development, efforts, shif...</td>\n    </tr>\n    <tr>\n      <th>2</th>\n      <td>Grand Theft Auto IV</td>\n      <td>PlayStation 3</td>\n      <td>2008</td>\n      <td>[Metacritic's 2008 PS3 Game of the Year; Also ...</td>\n      <td>Rockstar North</td>\n      <td>Action Adventure</td>\n      <td>No Multiplayer</td>\n      <td>M</td>\n      <td>87.5</td>\n      <td>65.957447</td>\n      <td>[metacritic, 2008, ps3, game, year, also, know...</td>\n    </tr>\n    <tr>\n      <th>3</th>\n      <td>SoulCalibur</td>\n      <td>Dreamcast</td>\n      <td>1999</td>\n      <td>This is a tale of souls and swords, transcendi...</td>\n      <td>Namco</td>\n      <td>Action</td>\n      <td>Multiplayer</td>\n      <td>T</td>\n      <td>91.0</td>\n      <td>95.744681</td>\n      <td>[tale, souls, swords, transcending, world, his...</td>\n    </tr>\n    <tr>\n      <th>4</th>\n      <td>Grand Theft Auto IV</td>\n      <td>Xbox 360</td>\n      <td>2008</td>\n      <td>[Metacritic's 2008 Xbox 360 Game of the Year; ...</td>\n      <td>Rockstar North</td>\n      <td>Action Adventure</td>\n      <td>No Multiplayer</td>\n      <td>M</td>\n      <td>88.5</td>\n      <td>71.556886</td>\n      <td>[metacritic, 2008, xbox, 360, game, year, also...</td>\n    </tr>\n  </tbody>\n</table>\n</div>"
     },
     "execution_count": 259,
     "metadata": {},
     "output_type": "execute_result"
    }
   ],
   "source": [
    "df_nlp.head()"
   ],
   "metadata": {
    "collapsed": false,
    "pycharm": {
     "name": "#%%\n"
    }
   }
  },
  {
   "cell_type": "code",
   "execution_count": 260,
   "outputs": [],
   "source": [
    "df_nlp['platform_lower'] = df_nlp['platform'].str.lower().str.replace(' ', '')\n",
    "df_nlp['developer'] = df_nlp['developer'].str.lower().str.replace(' ', '')\n",
    "df_nlp['genre(s)'] = df_nlp['genre(s)'].str.lower().str.replace(' ', '')\n",
    "df_nlp['multiplayer'] = df_nlp['multiplayer'].str.lower().str.replace(' ', '')"
   ],
   "metadata": {
    "collapsed": false,
    "pycharm": {
     "name": "#%%\n"
    }
   }
  },
  {
   "cell_type": "code",
   "execution_count": 261,
   "outputs": [
    {
     "data": {
      "text/plain": "                                   name       platform  release_year  \\\n0  The Legend of Zelda: Ocarina of Time    Nintendo 64          1998   \n1              Tony Hawk's Pro Skater 2    PlayStation          2000   \n2                   Grand Theft Auto IV  PlayStation 3          2008   \n3                           SoulCalibur      Dreamcast          1999   \n4                   Grand Theft Auto IV       Xbox 360          2008   \n\n                                             summary               developer  \\\n0  As a young boy, Link is tricked by Ganondorf, ...                nintendo   \n1  As most major publishers' development efforts ...  neversoftentertainment   \n2  [Metacritic's 2008 PS3 Game of the Year; Also ...           rockstarnorth   \n3  This is a tale of souls and swords, transcendi...                   namco   \n4  [Metacritic's 2008 Xbox 360 Game of the Year; ...           rockstarnorth   \n\n          genre(s)    multiplayer rating  score    opinion  \\\n0  actionadventure  nomultiplayer      E   95.0  92.164545   \n1           sports    multiplayer      T   86.0  81.333333   \n2  actionadventure  nomultiplayer      M   87.5  65.957447   \n3           action    multiplayer      T   91.0  95.744681   \n4  actionadventure  nomultiplayer      M   88.5  71.556886   \n\n                                           Key_words platform_lower  \n0  [young, boy, link, tricked, ganondorf, king, g...     nintendo64  \n1  [major, publishers, development, efforts, shif...    playstation  \n2  [metacritic, 2008, ps3, game, year, also, know...   playstation3  \n3  [tale, souls, swords, transcending, world, his...      dreamcast  \n4  [metacritic, 2008, xbox, 360, game, year, also...        xbox360  ",
      "text/html": "<div>\n<style scoped>\n    .dataframe tbody tr th:only-of-type {\n        vertical-align: middle;\n    }\n\n    .dataframe tbody tr th {\n        vertical-align: top;\n    }\n\n    .dataframe thead th {\n        text-align: right;\n    }\n</style>\n<table border=\"1\" class=\"dataframe\">\n  <thead>\n    <tr style=\"text-align: right;\">\n      <th></th>\n      <th>name</th>\n      <th>platform</th>\n      <th>release_year</th>\n      <th>summary</th>\n      <th>developer</th>\n      <th>genre(s)</th>\n      <th>multiplayer</th>\n      <th>rating</th>\n      <th>score</th>\n      <th>opinion</th>\n      <th>Key_words</th>\n      <th>platform_lower</th>\n    </tr>\n  </thead>\n  <tbody>\n    <tr>\n      <th>0</th>\n      <td>The Legend of Zelda: Ocarina of Time</td>\n      <td>Nintendo 64</td>\n      <td>1998</td>\n      <td>As a young boy, Link is tricked by Ganondorf, ...</td>\n      <td>nintendo</td>\n      <td>actionadventure</td>\n      <td>nomultiplayer</td>\n      <td>E</td>\n      <td>95.0</td>\n      <td>92.164545</td>\n      <td>[young, boy, link, tricked, ganondorf, king, g...</td>\n      <td>nintendo64</td>\n    </tr>\n    <tr>\n      <th>1</th>\n      <td>Tony Hawk's Pro Skater 2</td>\n      <td>PlayStation</td>\n      <td>2000</td>\n      <td>As most major publishers' development efforts ...</td>\n      <td>neversoftentertainment</td>\n      <td>sports</td>\n      <td>multiplayer</td>\n      <td>T</td>\n      <td>86.0</td>\n      <td>81.333333</td>\n      <td>[major, publishers, development, efforts, shif...</td>\n      <td>playstation</td>\n    </tr>\n    <tr>\n      <th>2</th>\n      <td>Grand Theft Auto IV</td>\n      <td>PlayStation 3</td>\n      <td>2008</td>\n      <td>[Metacritic's 2008 PS3 Game of the Year; Also ...</td>\n      <td>rockstarnorth</td>\n      <td>actionadventure</td>\n      <td>nomultiplayer</td>\n      <td>M</td>\n      <td>87.5</td>\n      <td>65.957447</td>\n      <td>[metacritic, 2008, ps3, game, year, also, know...</td>\n      <td>playstation3</td>\n    </tr>\n    <tr>\n      <th>3</th>\n      <td>SoulCalibur</td>\n      <td>Dreamcast</td>\n      <td>1999</td>\n      <td>This is a tale of souls and swords, transcendi...</td>\n      <td>namco</td>\n      <td>action</td>\n      <td>multiplayer</td>\n      <td>T</td>\n      <td>91.0</td>\n      <td>95.744681</td>\n      <td>[tale, souls, swords, transcending, world, his...</td>\n      <td>dreamcast</td>\n    </tr>\n    <tr>\n      <th>4</th>\n      <td>Grand Theft Auto IV</td>\n      <td>Xbox 360</td>\n      <td>2008</td>\n      <td>[Metacritic's 2008 Xbox 360 Game of the Year; ...</td>\n      <td>rockstarnorth</td>\n      <td>actionadventure</td>\n      <td>nomultiplayer</td>\n      <td>M</td>\n      <td>88.5</td>\n      <td>71.556886</td>\n      <td>[metacritic, 2008, xbox, 360, game, year, also...</td>\n      <td>xbox360</td>\n    </tr>\n  </tbody>\n</table>\n</div>"
     },
     "execution_count": 261,
     "metadata": {},
     "output_type": "execute_result"
    }
   ],
   "source": [
    "df_nlp.head()"
   ],
   "metadata": {
    "collapsed": false,
    "pycharm": {
     "name": "#%%\n"
    }
   }
  },
  {
   "cell_type": "code",
   "execution_count": 262,
   "outputs": [],
   "source": [
    "df_nlp[\"release_year\"] = df_nlp[\"release_year\"].astype(str)"
   ],
   "metadata": {
    "collapsed": false,
    "pycharm": {
     "name": "#%%\n"
    }
   }
  },
  {
   "cell_type": "code",
   "execution_count": 263,
   "outputs": [],
   "source": [
    "def update_key_words(x):\n",
    "    key_words = x['Key_words']\n",
    "    platform = x['platform_lower']\n",
    "    year = x['release_year']\n",
    "    developer = x['developer']\n",
    "    genre = x['genre(s)']\n",
    "    multiplayer = x['multiplayer']\n",
    "\n",
    "    key_words.append(platform)\n",
    "    key_words.append(year)\n",
    "    key_words.append(developer)\n",
    "    key_words.append(genre)\n",
    "    key_words.append(multiplayer)\n",
    "\n",
    "    return key_words"
   ],
   "metadata": {
    "collapsed": false,
    "pycharm": {
     "name": "#%%\n"
    }
   }
  },
  {
   "cell_type": "code",
   "execution_count": 264,
   "outputs": [],
   "source": [
    "df_nlp['Key_words'] = df_nlp.apply(update_key_words, axis=1)"
   ],
   "metadata": {
    "collapsed": false,
    "pycharm": {
     "name": "#%%\n"
    }
   }
  },
  {
   "cell_type": "code",
   "execution_count": 265,
   "outputs": [],
   "source": [
    "def join_list_to_string(lst):\n",
    "    return ' '.join(lst)\n",
    "\n",
    "df_nlp['Bag_of_words'] = df_nlp['Key_words'].apply(join_list_to_string)"
   ],
   "metadata": {
    "collapsed": false,
    "pycharm": {
     "name": "#%%\n"
    }
   }
  },
  {
   "cell_type": "code",
   "execution_count": 266,
   "outputs": [],
   "source": [
    "df_nlp = df_nlp[['name','platform', 'Bag_of_words']]"
   ],
   "metadata": {
    "collapsed": false,
    "pycharm": {
     "name": "#%%\n"
    }
   }
  },
  {
   "cell_type": "code",
   "execution_count": 267,
   "outputs": [
    {
     "data": {
      "text/plain": "                                       name       platform  \\\n0      The Legend of Zelda: Ocarina of Time    Nintendo 64   \n1                  Tony Hawk's Pro Skater 2    PlayStation   \n2                       Grand Theft Auto IV  PlayStation 3   \n3                               SoulCalibur      Dreamcast   \n4                       Grand Theft Auto IV       Xbox 360   \n5                        Super Mario Galaxy            Wii   \n6                      Super Mario Galaxy 2            Wii   \n7                     Red Dead Redemption 2       Xbox One   \n8                        Grand Theft Auto V       Xbox One   \n9                        Grand Theft Auto V  PlayStation 3   \n10                       Grand Theft Auto V       Xbox 360   \n11                 Tony Hawk's Pro Skater 2      Dreamcast   \n12  The Legend of Zelda: Breath of the Wild         Switch   \n13                 Tony Hawk's Pro Skater 3  PlayStation 2   \n14                             Perfect Dark    Nintendo 64   \n15                    Red Dead Redemption 2  PlayStation 4   \n16                       Grand Theft Auto V  PlayStation 4   \n17                            Metroid Prime       GameCube   \n18                     Grand Theft Auto III  PlayStation 2   \n19                      Super Mario Odyssey         Switch   \n20                     Halo: Combat Evolved           Xbox   \n21                                  NFL 2K1      Dreamcast   \n22                              Half-Life 2             PC   \n23                       Grand Theft Auto V             PC   \n24  The Legend of Zelda: Breath of the Wild          Wii U   \n25                                 BioShock       Xbox 360   \n26                            GoldenEye 007    Nintendo 64   \n27               Uncharted 2: Among Thieves  PlayStation 3   \n28                          Resident Evil 4       GameCube   \n29                           The Orange Box       Xbox 360   \n30                           The Orange Box             PC   \n31                      Batman: Arkham City  PlayStation 3   \n32                                 Tekken 3    PlayStation   \n33                            Mass Effect 2       Xbox 360   \n34   The Legend of Zelda: Twilight Princess       GameCube   \n35              The Elder Scrolls V: Skyrim       Xbox 360   \n36                                Half-Life             PC   \n37                          Resident Evil 4  PlayStation 2   \n38      The Legend of Zelda: The Wind Waker       GameCube   \n39                             Gran Turismo    PlayStation   \n40                                 BioShock             PC   \n41      Metal Gear Solid 2: Sons of Liberty  PlayStation 2   \n42             Grand Theft Auto Double Pack           Xbox   \n43         Baldur's Gate II: Shadows of Amn             PC   \n44            Grand Theft Auto: San Andreas  PlayStation 2   \n45              Grand Theft Auto: Vice City  PlayStation 2   \n46                          LittleBigPlanet  PlayStation 3   \n47  The Legend of Zelda Collector's Edition       GameCube   \n48                      Red Dead Redemption  PlayStation 3   \n49                   Gran Turismo 3: A-Spec  PlayStation 2   \n\n                                         Bag_of_words  \n0   young boy link tricked ganondorf king gerudo t...  \n1   major publishers development efforts shift num...  \n2   metacritic 2008 ps3 game year also known gta i...  \n3   tale souls swords transcending world history t...  \n4   metacritic 2008 xbox 360 game year also known ...  \n5   metacritic 2007 wii game year ultimate nintend...  \n6   super mario galaxy 2 sequel hopping original g...  \n7   developed creators grand theft auto v red dead...  \n8   grand theft auto 5 melds storytelling gameplay...  \n9   los santos vast sun soaked metropolis full sel...  \n10  los santos sprawling sun soaked metropolis ful...  \n11  hawk back new technology pros tricks thps2 leg...  \n12  forget everything know legend zelda games step...  \n13  challenge four friends online competitions lan...  \n14  step dark ... carrington institute promising n...  \n15  developed creators grand theft auto v red dead...  \n16  sprawling sun soaked metropolis los santos cho...  \n17  samus returns new mission unravel mystery behi...  \n18  players put heart gangster movie let loose ful...  \n19  new evolution mario sandbox style gameplay emb...  \n20  enter mysterious world halo alien planet shape...  \n21  end nfl 2k1 deeper refined version original ga...  \n22  metacritic 2004 pc game year taking suspense c...  \n23  los santos sprawling sun soaked metropolis ful...  \n24  ignore everything know legend zelda games step...  \n25  metacritic 2007 xbox 360 game year going beyon...  \n26  bond james assigned covert operations connecte...  \n27  fortune hunter nathan drake returns uncharted ...  \n28  resident evil 4 marks new chapter series rejoi...  \n29  games included orange box compilation original...  \n30  games included orange box compilation original...  \n31  developed rocksteady studios batman arkham cit...  \n32  ancient evil force reawakened attacking secret...  \n33  mass effect trilogy science fiction adventure ...  \n34  next chapter legend zelda series link transfor...  \n35  next chapter elder scrolls saga arrives bethes...  \n36  half life combines great storytelling traditio...  \n37  resident evil 4 players reacquainted leon kenn...  \n38  ninth entry legend zelda series link debuts ga...  \n39  welcome advanced racing game ever created enco...  \n40  going beyond run gun corridors ,\" monster clos...  \n41  since incident shadow moses island metal gear ...  \n42  dark seedy streets liberty city underworld gla...  \n43  epic continuation story began baldur gate ,\" r...  \n44  metacritic 2004 ps2 game year five years ago c...  \n45  metacritic 2002 ps2 game year welcome vice cit...  \n46  littlebigplanet players meet blue green planet...  \n47  receive four complete classic zelda games one ...  \n48  developed rockstar san diego follow 2004 hit g...  \n49  addition two new courses downtown tokyo circui...  ",
      "text/html": "<div>\n<style scoped>\n    .dataframe tbody tr th:only-of-type {\n        vertical-align: middle;\n    }\n\n    .dataframe tbody tr th {\n        vertical-align: top;\n    }\n\n    .dataframe thead th {\n        text-align: right;\n    }\n</style>\n<table border=\"1\" class=\"dataframe\">\n  <thead>\n    <tr style=\"text-align: right;\">\n      <th></th>\n      <th>name</th>\n      <th>platform</th>\n      <th>Bag_of_words</th>\n    </tr>\n  </thead>\n  <tbody>\n    <tr>\n      <th>0</th>\n      <td>The Legend of Zelda: Ocarina of Time</td>\n      <td>Nintendo 64</td>\n      <td>young boy link tricked ganondorf king gerudo t...</td>\n    </tr>\n    <tr>\n      <th>1</th>\n      <td>Tony Hawk's Pro Skater 2</td>\n      <td>PlayStation</td>\n      <td>major publishers development efforts shift num...</td>\n    </tr>\n    <tr>\n      <th>2</th>\n      <td>Grand Theft Auto IV</td>\n      <td>PlayStation 3</td>\n      <td>metacritic 2008 ps3 game year also known gta i...</td>\n    </tr>\n    <tr>\n      <th>3</th>\n      <td>SoulCalibur</td>\n      <td>Dreamcast</td>\n      <td>tale souls swords transcending world history t...</td>\n    </tr>\n    <tr>\n      <th>4</th>\n      <td>Grand Theft Auto IV</td>\n      <td>Xbox 360</td>\n      <td>metacritic 2008 xbox 360 game year also known ...</td>\n    </tr>\n    <tr>\n      <th>5</th>\n      <td>Super Mario Galaxy</td>\n      <td>Wii</td>\n      <td>metacritic 2007 wii game year ultimate nintend...</td>\n    </tr>\n    <tr>\n      <th>6</th>\n      <td>Super Mario Galaxy 2</td>\n      <td>Wii</td>\n      <td>super mario galaxy 2 sequel hopping original g...</td>\n    </tr>\n    <tr>\n      <th>7</th>\n      <td>Red Dead Redemption 2</td>\n      <td>Xbox One</td>\n      <td>developed creators grand theft auto v red dead...</td>\n    </tr>\n    <tr>\n      <th>8</th>\n      <td>Grand Theft Auto V</td>\n      <td>Xbox One</td>\n      <td>grand theft auto 5 melds storytelling gameplay...</td>\n    </tr>\n    <tr>\n      <th>9</th>\n      <td>Grand Theft Auto V</td>\n      <td>PlayStation 3</td>\n      <td>los santos vast sun soaked metropolis full sel...</td>\n    </tr>\n    <tr>\n      <th>10</th>\n      <td>Grand Theft Auto V</td>\n      <td>Xbox 360</td>\n      <td>los santos sprawling sun soaked metropolis ful...</td>\n    </tr>\n    <tr>\n      <th>11</th>\n      <td>Tony Hawk's Pro Skater 2</td>\n      <td>Dreamcast</td>\n      <td>hawk back new technology pros tricks thps2 leg...</td>\n    </tr>\n    <tr>\n      <th>12</th>\n      <td>The Legend of Zelda: Breath of the Wild</td>\n      <td>Switch</td>\n      <td>forget everything know legend zelda games step...</td>\n    </tr>\n    <tr>\n      <th>13</th>\n      <td>Tony Hawk's Pro Skater 3</td>\n      <td>PlayStation 2</td>\n      <td>challenge four friends online competitions lan...</td>\n    </tr>\n    <tr>\n      <th>14</th>\n      <td>Perfect Dark</td>\n      <td>Nintendo 64</td>\n      <td>step dark ... carrington institute promising n...</td>\n    </tr>\n    <tr>\n      <th>15</th>\n      <td>Red Dead Redemption 2</td>\n      <td>PlayStation 4</td>\n      <td>developed creators grand theft auto v red dead...</td>\n    </tr>\n    <tr>\n      <th>16</th>\n      <td>Grand Theft Auto V</td>\n      <td>PlayStation 4</td>\n      <td>sprawling sun soaked metropolis los santos cho...</td>\n    </tr>\n    <tr>\n      <th>17</th>\n      <td>Metroid Prime</td>\n      <td>GameCube</td>\n      <td>samus returns new mission unravel mystery behi...</td>\n    </tr>\n    <tr>\n      <th>18</th>\n      <td>Grand Theft Auto III</td>\n      <td>PlayStation 2</td>\n      <td>players put heart gangster movie let loose ful...</td>\n    </tr>\n    <tr>\n      <th>19</th>\n      <td>Super Mario Odyssey</td>\n      <td>Switch</td>\n      <td>new evolution mario sandbox style gameplay emb...</td>\n    </tr>\n    <tr>\n      <th>20</th>\n      <td>Halo: Combat Evolved</td>\n      <td>Xbox</td>\n      <td>enter mysterious world halo alien planet shape...</td>\n    </tr>\n    <tr>\n      <th>21</th>\n      <td>NFL 2K1</td>\n      <td>Dreamcast</td>\n      <td>end nfl 2k1 deeper refined version original ga...</td>\n    </tr>\n    <tr>\n      <th>22</th>\n      <td>Half-Life 2</td>\n      <td>PC</td>\n      <td>metacritic 2004 pc game year taking suspense c...</td>\n    </tr>\n    <tr>\n      <th>23</th>\n      <td>Grand Theft Auto V</td>\n      <td>PC</td>\n      <td>los santos sprawling sun soaked metropolis ful...</td>\n    </tr>\n    <tr>\n      <th>24</th>\n      <td>The Legend of Zelda: Breath of the Wild</td>\n      <td>Wii U</td>\n      <td>ignore everything know legend zelda games step...</td>\n    </tr>\n    <tr>\n      <th>25</th>\n      <td>BioShock</td>\n      <td>Xbox 360</td>\n      <td>metacritic 2007 xbox 360 game year going beyon...</td>\n    </tr>\n    <tr>\n      <th>26</th>\n      <td>GoldenEye 007</td>\n      <td>Nintendo 64</td>\n      <td>bond james assigned covert operations connecte...</td>\n    </tr>\n    <tr>\n      <th>27</th>\n      <td>Uncharted 2: Among Thieves</td>\n      <td>PlayStation 3</td>\n      <td>fortune hunter nathan drake returns uncharted ...</td>\n    </tr>\n    <tr>\n      <th>28</th>\n      <td>Resident Evil 4</td>\n      <td>GameCube</td>\n      <td>resident evil 4 marks new chapter series rejoi...</td>\n    </tr>\n    <tr>\n      <th>29</th>\n      <td>The Orange Box</td>\n      <td>Xbox 360</td>\n      <td>games included orange box compilation original...</td>\n    </tr>\n    <tr>\n      <th>30</th>\n      <td>The Orange Box</td>\n      <td>PC</td>\n      <td>games included orange box compilation original...</td>\n    </tr>\n    <tr>\n      <th>31</th>\n      <td>Batman: Arkham City</td>\n      <td>PlayStation 3</td>\n      <td>developed rocksteady studios batman arkham cit...</td>\n    </tr>\n    <tr>\n      <th>32</th>\n      <td>Tekken 3</td>\n      <td>PlayStation</td>\n      <td>ancient evil force reawakened attacking secret...</td>\n    </tr>\n    <tr>\n      <th>33</th>\n      <td>Mass Effect 2</td>\n      <td>Xbox 360</td>\n      <td>mass effect trilogy science fiction adventure ...</td>\n    </tr>\n    <tr>\n      <th>34</th>\n      <td>The Legend of Zelda: Twilight Princess</td>\n      <td>GameCube</td>\n      <td>next chapter legend zelda series link transfor...</td>\n    </tr>\n    <tr>\n      <th>35</th>\n      <td>The Elder Scrolls V: Skyrim</td>\n      <td>Xbox 360</td>\n      <td>next chapter elder scrolls saga arrives bethes...</td>\n    </tr>\n    <tr>\n      <th>36</th>\n      <td>Half-Life</td>\n      <td>PC</td>\n      <td>half life combines great storytelling traditio...</td>\n    </tr>\n    <tr>\n      <th>37</th>\n      <td>Resident Evil 4</td>\n      <td>PlayStation 2</td>\n      <td>resident evil 4 players reacquainted leon kenn...</td>\n    </tr>\n    <tr>\n      <th>38</th>\n      <td>The Legend of Zelda: The Wind Waker</td>\n      <td>GameCube</td>\n      <td>ninth entry legend zelda series link debuts ga...</td>\n    </tr>\n    <tr>\n      <th>39</th>\n      <td>Gran Turismo</td>\n      <td>PlayStation</td>\n      <td>welcome advanced racing game ever created enco...</td>\n    </tr>\n    <tr>\n      <th>40</th>\n      <td>BioShock</td>\n      <td>PC</td>\n      <td>going beyond run gun corridors ,\" monster clos...</td>\n    </tr>\n    <tr>\n      <th>41</th>\n      <td>Metal Gear Solid 2: Sons of Liberty</td>\n      <td>PlayStation 2</td>\n      <td>since incident shadow moses island metal gear ...</td>\n    </tr>\n    <tr>\n      <th>42</th>\n      <td>Grand Theft Auto Double Pack</td>\n      <td>Xbox</td>\n      <td>dark seedy streets liberty city underworld gla...</td>\n    </tr>\n    <tr>\n      <th>43</th>\n      <td>Baldur's Gate II: Shadows of Amn</td>\n      <td>PC</td>\n      <td>epic continuation story began baldur gate ,\" r...</td>\n    </tr>\n    <tr>\n      <th>44</th>\n      <td>Grand Theft Auto: San Andreas</td>\n      <td>PlayStation 2</td>\n      <td>metacritic 2004 ps2 game year five years ago c...</td>\n    </tr>\n    <tr>\n      <th>45</th>\n      <td>Grand Theft Auto: Vice City</td>\n      <td>PlayStation 2</td>\n      <td>metacritic 2002 ps2 game year welcome vice cit...</td>\n    </tr>\n    <tr>\n      <th>46</th>\n      <td>LittleBigPlanet</td>\n      <td>PlayStation 3</td>\n      <td>littlebigplanet players meet blue green planet...</td>\n    </tr>\n    <tr>\n      <th>47</th>\n      <td>The Legend of Zelda Collector's Edition</td>\n      <td>GameCube</td>\n      <td>receive four complete classic zelda games one ...</td>\n    </tr>\n    <tr>\n      <th>48</th>\n      <td>Red Dead Redemption</td>\n      <td>PlayStation 3</td>\n      <td>developed rockstar san diego follow 2004 hit g...</td>\n    </tr>\n    <tr>\n      <th>49</th>\n      <td>Gran Turismo 3: A-Spec</td>\n      <td>PlayStation 2</td>\n      <td>addition two new courses downtown tokyo circui...</td>\n    </tr>\n  </tbody>\n</table>\n</div>"
     },
     "execution_count": 267,
     "metadata": {},
     "output_type": "execute_result"
    }
   ],
   "source": [
    "df_nlp.head(50)"
   ],
   "metadata": {
    "collapsed": false,
    "pycharm": {
     "name": "#%%\n"
    }
   }
  },
  {
   "cell_type": "code",
   "execution_count": 268,
   "outputs": [],
   "source": [
    "count = CountVectorizer()"
   ],
   "metadata": {
    "collapsed": false,
    "pycharm": {
     "name": "#%%\n"
    }
   }
  },
  {
   "cell_type": "code",
   "execution_count": 269,
   "outputs": [
    {
     "name": "stdout",
     "output_type": "stream",
     "text": [
      "[[1.         0.         0.05956087 ... 0.02201127 0.06225728 0.05842686]\n",
      " [0.         1.         0.02505487 ... 0.         0.03928371 0.        ]\n",
      " [0.05956087 0.02505487 1.         ... 0.01879115 0.0265747  0.03740951]\n",
      " ...\n",
      " [0.02201127 0.         0.01879115 ... 1.         0.11785113 0.04147509]\n",
      " [0.06225728 0.03928371 0.0265747  ... 0.11785113 1.         0.01955155]\n",
      " [0.05842686 0.         0.03740951 ... 0.04147509 0.01955155 1.        ]]\n"
     ]
    }
   ],
   "source": [
    "count_matrix = count.fit_transform(df_nlp['Bag_of_words'])\n",
    "cosine_sim = cosine_similarity(count_matrix, count_matrix)\n",
    "print(cosine_sim)"
   ],
   "metadata": {
    "collapsed": false,
    "pycharm": {
     "name": "#%%\n"
    }
   }
  },
  {
   "cell_type": "code",
   "execution_count": 270,
   "outputs": [],
   "source": [
    "indices = pd.Series(df_nlp['name'])"
   ],
   "metadata": {
    "collapsed": false,
    "pycharm": {
     "name": "#%%\n"
    }
   }
  },
  {
   "cell_type": "code",
   "execution_count": 271,
   "outputs": [],
   "source": [
    "def recommend(title, cosine_sim = cosine_sim):\n",
    "    recommended_games = []\n",
    "    idx = indices[indices == title].index[0]\n",
    "    score_series = pd.Series(cosine_sim[idx]).sort_values(ascending = False)\n",
    "    top_10_indices = list(score_series.iloc[1:11].index)\n",
    "\n",
    "    for i in top_10_indices:\n",
    "        game_name = list(df_nlp['name'])[i]\n",
    "        game_platform = list(df_nlp['platform'])[i]\n",
    "        recommended_games.append(f\"{game_name} ({game_platform})\")\n",
    "\n",
    "    return recommended_games"
   ],
   "metadata": {
    "collapsed": false,
    "pycharm": {
     "name": "#%%\n"
    }
   }
  },
  {
   "cell_type": "code",
   "execution_count": 273,
   "outputs": [
    {
     "data": {
      "text/plain": "['Half-Life 2 (Xbox)',\n 'The Orange Box (PC)',\n 'The Orange Box (Xbox 360)',\n 'The Orange Box (PlayStation 3)',\n 'Black Mesa (PC)',\n 'Half-Life (PC)',\n 'Half-Life 2: Episode One (PC)',\n 'Luckslinger (PC)',\n 'Cornerstone: The Song of Tyrim (PC)',\n 'Portal 2 (PC)']"
     },
     "execution_count": 273,
     "metadata": {},
     "output_type": "execute_result"
    }
   ],
   "source": [
    "recommend('Half-Life 2')"
   ],
   "metadata": {
    "collapsed": false,
    "pycharm": {
     "name": "#%%\n"
    }
   }
  }
 ],
 "metadata": {
  "kernelspec": {
   "display_name": "Python 3",
   "language": "python",
   "name": "python3"
  },
  "language_info": {
   "codemirror_mode": {
    "name": "ipython",
    "version": 2
   },
   "file_extension": ".py",
   "mimetype": "text/x-python",
   "name": "python",
   "nbconvert_exporter": "python",
   "pygments_lexer": "ipython2",
   "version": "2.7.6"
  }
 },
 "nbformat": 4,
 "nbformat_minor": 0
}